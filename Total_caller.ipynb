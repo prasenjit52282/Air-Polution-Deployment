{
 "cells": [
  {
   "cell_type": "code",
   "execution_count": 1,
   "metadata": {},
   "outputs": [],
   "source": [
    "### Crawler Meteoblue"
   ]
  },
  {
   "cell_type": "code",
   "execution_count": 1,
   "metadata": {},
   "outputs": [],
   "source": [
    "def crawler_meteoblue():\n",
    "    from selenium import webdriver\n",
    "    driver = webdriver.Chrome('chromedriver_linux64/chromedriver')\n",
    "    driver.get(\"https://www.meteoblue.com/en/products/historyplus/download/durgapur_india_1272175\")\n",
    "\n",
    "    driver.find_element_by_xpath(\"/html/body/div[2]/div/form/div/input\").click() #accept and continue\n",
    "\n",
    "    button=driver.find_element_by_class_name(\"bloo\")\n",
    "\n",
    "    ######Click on checkbox#########\n",
    "\n",
    "    print(\"B\")\n",
    "\n",
    "    l=['//*[@id=\"params\"]/optgroup[2]/option[3]',\n",
    "       '//*[@id=\"params\"]/optgroup[6]/option[1]',\n",
    "       '//*[@id=\"params\"]/optgroup[4]/option[1]',\n",
    "       '//*[@id=\"params\"]/optgroup[4]/option[2]',\n",
    "       '//*[@id=\"params\"]/optgroup[3]/option[2]',\n",
    "       '//*[@id=\"params\"]/optgroup[3]/option[4]',\n",
    "       '//*[@id=\"params\"]/optgroup[3]/option[3]']\n",
    "\n",
    "    for e in l:\n",
    "        driver.find_element_by_xpath(e).click()\n",
    "        print(\"C\")\n",
    "    print(\"A\")\n",
    "    driver.find_element_by_xpath('//*[@id=\"wrapper-main\"]/div/main/div/div[2]/form/div[4]/div[3]/div/input').click()"
   ]
  },
  {
   "cell_type": "code",
   "execution_count": 2,
   "metadata": {},
   "outputs": [],
   "source": [
    "### Getting Data Meteoblue"
   ]
  },
  {
   "cell_type": "code",
   "execution_count": 3,
   "metadata": {},
   "outputs": [],
   "source": [
    "def get_data_meteoblue():\n",
    "    import os\n",
    "    import shutil\n",
    "    fldr1='/home/abhijit/Downloads/'\n",
    "    files=os.listdir(fldr1)\n",
    "    to_reach='Meteoblue_data/'\n",
    "    file_name='env_vars'\n",
    "    for file in files:\n",
    "        #print(file)\n",
    "        if 'dataexport' in file:\n",
    "            print(file)\n",
    "            fle=file\n",
    "    #state=\"mv \"+fldr1+fle+\" \"+to_reach+file_name\n",
    "    #print(state)\n",
    "    shutil.move(fldr1+fle,to_reach)"
   ]
  },
  {
   "cell_type": "code",
   "execution_count": 4,
   "metadata": {},
   "outputs": [],
   "source": [
    "### Preprocessing Meteoblue"
   ]
  },
  {
   "cell_type": "code",
   "execution_count": 5,
   "metadata": {},
   "outputs": [],
   "source": [
    "def pre_process_meteoblue():\n",
    "    import pandas as pd\n",
    "    import numpy as np\n",
    "    import os\n",
    "    files=os.listdir('Meteoblue_data/')\n",
    "    for file in files:\n",
    "        fle=file\n",
    "    df=pd.read_excel('Meteoblue_data/'+fle)\n",
    "    a=df.iloc[8]\n",
    "    arr=np.array(df.iloc[9:,:])\n",
    "    a=np.array(df.iloc[8,:])\n",
    "\n",
    "    l=[]\n",
    "    l.append(a[0])\n",
    "    for i in a:\n",
    "        if 'timestamp' in i:\n",
    "            continue\n",
    "        else:\n",
    "            l.append(i[9:])\n",
    "    final=pd.DataFrame(arr,columns=l)\n",
    "    required=['timestamp','Wind Speed [10 m]','Wind Direction [10 m]','Wind Gust','Cloud Cover High [high cld lay]','Mean Sea Level Pressure [MSL]']\n",
    "    req=final[required]\n",
    "    cols=['timestamp','Wind Speed  [10 m above gnd]','Wind Direction  [10 m above gnd]','Wind Gust  [sfc]','High Cloud Cover  [high cld lay]','Mean Sea Level Pressure  [MSL]']\n",
    "    req_a=np.array(req)\n",
    "    final_n=pd.DataFrame(req_a,columns=cols)\n",
    "    final_n.to_csv('temp_meteoblue.csv',index=False)\n"
   ]
  },
  {
   "cell_type": "code",
   "execution_count": 6,
   "metadata": {},
   "outputs": [],
   "source": [
    "### Crawler NIT IOT"
   ]
  },
  {
   "cell_type": "code",
   "execution_count": 7,
   "metadata": {},
   "outputs": [],
   "source": [
    "def crawler_IOT():\n",
    "    import pandas as pd\n",
    "    import os\n",
    "    from selenium import webdriver\n",
    "    driver = webdriver.Chrome('chromedriver_linux64/chromedriver')\n",
    "    driver.get(\"")\n",
    "    button=driver.find_element_by_class_name(\"col-md-12\")\n",
    "    butt=button.find_element_by_class_name(\"text-center\")\n",
    "    links = driver.find_elements_by_link_text('Save')\n",
    "    for link in links:\n",
    "        link.click()\n"
   ]
  },
  {
   "cell_type": "code",
   "execution_count": 8,
   "metadata": {},
   "outputs": [],
   "source": [
    "### Getting Data IOT"
   ]
  },
  {
   "cell_type": "code",
   "execution_count": 9,
   "metadata": {},
   "outputs": [],
   "source": [
    "def get_data_IOT():\n",
    "    import os\n",
    "    import shutil\n",
    "    fldr1='/home/abhijit/Downloads/'\n",
    "    files=os.listdir(fldr1)\n",
    "    to_reach='IOT_data/'\n",
    "    fle=[]\n",
    "    for file in files:\n",
    "        #print(file)\n",
    "        if 'Device' in file:\n",
    "            print(file)\n",
    "            fle.append(file)\n",
    "    #state=\"mv \"+fldr1+fle+\" \"+to_reach+file_name\n",
    "    #print(state)\n",
    "    for f in fle:\n",
    "        shutil.move(fldr1+f,to_reach)"
   ]
  },
  {
   "cell_type": "code",
   "execution_count": 10,
   "metadata": {},
   "outputs": [],
   "source": [
    "#### Preprocessing IOT"
   ]
  },
  {
   "cell_type": "code",
   "execution_count": 11,
   "metadata": {},
   "outputs": [],
   "source": [
    "def preprocess_IOT(date_in='NA'):\n",
    "    print(date_in)\n",
    "    import os\n",
    "    import pandas as pd\n",
    "    fldr='IOT_data'\n",
    "    files=os.listdir(fldr)\n",
    "    devices_data={}\n",
    "    devices=['Device-1.xls','Device-2.xls','Device-3.xls','Device-4.xls']\n",
    "    for file in devices:\n",
    "        ac=fldr+'/'+file\n",
    "        print(ac)\n",
    "        df=pd.read_html(ac)\n",
    "        date=[]\n",
    "        df_ac=df[0]\n",
    "        i=0\n",
    "        while i<len(df_ac):\n",
    "            date.append(df_ac.iloc[i]['Date'].split(':')[0])\n",
    "            i+=1\n",
    "        df_ac['Date_req']=date\n",
    "        if 'NA' in date_in:\n",
    "            d_temp=df_ac.iloc[0]['Date_req']\n",
    "            #print(\"A\")\n",
    "        else:\n",
    "            d_temp=date_in\n",
    "            #print(\"B\")\n",
    "        df_temp=df_ac[df_ac['Date_req']==d_temp]\n",
    "        time_stamp=d_temp\n",
    "        reqs=['Temperature','Humidity']\n",
    "        df_t=df_temp[reqs]\n",
    "        means=df_t.mean(axis=0)\n",
    "\n",
    "        number=(file.split('.')[0]).split('-')[1]\n",
    "        devices_data[number]={}\n",
    "        devices_data[number]['Time']=time_stamp\n",
    "        devices_data[number]['Temperature']=means['Temperature']\n",
    "        devices_data[number]['Humidity']=means['Humidity']\n",
    "\n",
    "    data_df=pd.DataFrame(devices_data) \n",
    "    df_f=data_df.transpose()\n",
    "    print(df_f)\n",
    "    df_f=df_f.reset_index()      \n",
    "    df1=pd.read_csv(\"temp_meteoblue.csv\")        \n",
    "    i=0\n",
    "    date_req=[]\n",
    "    while i<len(df1):\n",
    "        date_req.append((df1.iloc[i]['timestamp']).split(':')[0])\n",
    "        i+=1\n",
    "    df1['Time']=date_req\n",
    "    df_com=df1[df1['Time']==d_temp]\n",
    "    result = df_f.merge(df_com, on='Time',how='left')\n",
    "    result=result.drop(['Time'],axis=1)\n",
    "\n",
    "    result.to_csv('Final.csv',index=False)\n"
   ]
  },
  {
   "cell_type": "code",
   "execution_count": 12,
   "metadata": {},
   "outputs": [],
   "source": [
    "### Flush memories"
   ]
  },
  {
   "cell_type": "code",
   "execution_count": 13,
   "metadata": {},
   "outputs": [],
   "source": [
    "def flush_memo():\n",
    "    import os\n",
    "    fldrs=['IOT_data/','Meteoblue_data/']\n",
    "    \n",
    "    for fldr in fldrs:\n",
    "        files=os.listdir(fldr)\n",
    "        for file in files:\n",
    "            print(file)\n",
    "            os.remove(fldr+'/'+file)\n"
   ]
  },
  {
   "cell_type": "code",
   "execution_count": 14,
   "metadata": {},
   "outputs": [],
   "source": [
    "### Caller"
   ]
  },
  {
   "cell_type": "code",
   "execution_count": 15,
   "metadata": {},
   "outputs": [],
   "source": [
    "import os\n",
    "import time"
   ]
  },
  {
   "cell_type": "code",
   "execution_count": 21,
   "metadata": {},
   "outputs": [],
   "source": [
    "def caller(date_in='2020-12-19 11'):\n",
    "    flush_memo()\n",
    "\n",
    "    flag=True\n",
    "    while flag:\n",
    "        try:\n",
    "            crawler_meteoblue()\n",
    "            flag=False\n",
    "        except:\n",
    "            pass\n",
    "\n",
    "    time.sleep(2)\n",
    "    get_data_meteoblue()\n",
    "\n",
    "    pre_process_meteoblue()\n",
    "\n",
    "    crawler_IOT()\n",
    "    print(\"Downloading\")\n",
    "    while sum([os.path.exists(f'/home/abhijit/Downloads/Device-{e}.xls') for e in range(1,8)])<7:\n",
    "        pass\n",
    "    print(\"finished\")\n",
    "\n",
    "    get_data_IOT()\n",
    "\n",
    "    preprocess_IOT(date_in)"
   ]
  },
  {
   "cell_type": "code",
   "execution_count": 22,
   "metadata": {},
   "outputs": [
    {
     "name": "stdout",
     "output_type": "stream",
     "text": [
      "Device-4.xls\n",
      "Device-7.xls\n",
      "Device-5.xls\n",
      "Device-6.xls\n",
      "Device-2.xls\n",
      "Device-1.xls\n",
      "Device-3.xls\n",
      "dataexport_20201224T195913.xlsx\n",
      "B\n",
      "C\n",
      "B\n",
      "B\n",
      "C\n",
      "C\n",
      "C\n",
      "C\n",
      "C\n",
      "C\n",
      "C\n",
      "A\n",
      "dataexport_20201224T200233.xlsx\n",
      "Downloading\n",
      "finished\n",
      "Device-4.xls\n",
      "Device-7.xls\n",
      "Device-5.xls\n",
      "Device-6.xls\n",
      "Device-2.xls\n",
      "Device-1.xls\n",
      "Device-3.xls\n",
      "2020-12-19 11\n",
      "IOT_data/Device-1.xls\n",
      "IOT_data/Device-2.xls\n",
      "IOT_data/Device-3.xls\n",
      "IOT_data/Device-4.xls\n",
      "  Humidity Temperature           Time\n",
      "1       48        17.5  2020-12-19 11\n",
      "2  48.0133        22.2  2020-12-19 11\n",
      "3  41.8987     18.1899  2020-12-19 11\n",
      "4  38.8462     13.4359  2020-12-19 11\n"
     ]
    }
   ],
   "source": [
    "caller()"
   ]
  },
  {
   "cell_type": "code",
   "execution_count": null,
   "metadata": {},
   "outputs": [],
   "source": []
  }
 ],
 "metadata": {
  "kernelspec": {
   "display_name": "Python 3",
   "language": "python",
   "name": "python3"
  },
  "language_info": {
   "codemirror_mode": {
    "name": "ipython",
    "version": 3
   },
   "file_extension": ".py",
   "mimetype": "text/x-python",
   "name": "python",
   "nbconvert_exporter": "python",
   "pygments_lexer": "ipython3",
   "version": "3.6.9"
  }
 },
 "nbformat": 4,
 "nbformat_minor": 2
}
