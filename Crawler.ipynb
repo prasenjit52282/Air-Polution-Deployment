{
 "cells": [
  {
   "cell_type": "code",
   "execution_count": 1,
   "metadata": {},
   "outputs": [],
   "source": [
    "from selenium import webdriver\n",
    "import os\n",
    "import pandas as pd\n",
    "curr_dir=os.getcwd()\n",
    "\n",
    "meteoblue_path=\"\\\\download\\\\Meteoblue_data\\\\\"\n",
    "device_path=\"\\\\download\\\\IOT_data\\\\\""
   ]
  },
  {
   "cell_type": "markdown",
   "metadata": {},
   "source": [
    "# Flush Memory"
   ]
  },
  {
   "cell_type": "code",
   "execution_count": 2,
   "metadata": {},
   "outputs": [],
   "source": [
    "def flush_memo():\n",
    "    fldrs=[meteoblue_path.replace(\"\\\\\",\"/\")[1:],device_path.replace(\"\\\\\",\"/\")[1:]]\n",
    "    \n",
    "    for fldr in fldrs:\n",
    "        files=os.listdir(fldr)\n",
    "        for file in files:\n",
    "            #print(file)\n",
    "            os.remove(fldr+'/'+file)"
   ]
  },
  {
   "cell_type": "markdown",
   "metadata": {},
   "source": [
    "# Crawl Meteoblue"
   ]
  },
  {
   "cell_type": "code",
   "execution_count": 3,
   "metadata": {},
   "outputs": [],
   "source": [
    "def crawler_meteoblue():\n",
    "    chromeOptions=webdriver.ChromeOptions()\n",
    "    \n",
    "    prefs = {\"download.default_directory\" : curr_dir+meteoblue_path,\n",
    "            \"directory_upgrade\": True}\n",
    "    \n",
    "    chromeOptions.add_experimental_option(\"prefs\",prefs)\n",
    "    \n",
    "    driver = webdriver.Chrome(executable_path='chromedriver/chromedriver.exe',\n",
    "                              chrome_options=chromeOptions)\n",
    "    \n",
    "    driver.get(\"https://www.meteoblue.com/en/products/historyplus/download/durgapur_india_1272175\")\n",
    "\n",
    "    driver.find_element_by_xpath(\"/html/body/div[2]/div/form/div/input\").click() #accept and continue\n",
    "\n",
    "    button=driver.find_element_by_class_name(\"bloo\")\n",
    "\n",
    "    ######Click on checkbox#########\n",
    "    \n",
    "    def click_element(driver,e_xpath):\n",
    "        while True:\n",
    "            try:\n",
    "                elem=driver.find_element_by_xpath(e_xpath)\n",
    "                elem.click()\n",
    "                return\n",
    "            except:\n",
    "                pass\n",
    "\n",
    "    l=['//*[@id=\"params\"]/optgroup[2]/option[3]',\n",
    "       '//*[@id=\"params\"]/optgroup[6]/option[1]',\n",
    "       '//*[@id=\"params\"]/optgroup[4]/option[1]',\n",
    "       '//*[@id=\"params\"]/optgroup[4]/option[2]',\n",
    "       '//*[@id=\"params\"]/optgroup[3]/option[2]',\n",
    "       '//*[@id=\"params\"]/optgroup[3]/option[4]',\n",
    "       '//*[@id=\"params\"]/optgroup[3]/option[3]']\n",
    "    \n",
    "    for e in l:\n",
    "        click_element(driver,e)\n",
    "            \n",
    "    click_element(driver,'//*[@id=\"wrapper-main\"]/div/main/div/div[2]/form/div[4]/div[3]/div/input')\n",
    "    \n",
    "    return driver"
   ]
  },
  {
   "cell_type": "code",
   "execution_count": 4,
   "metadata": {
    "scrolled": false
   },
   "outputs": [],
   "source": [
    "#meteo_blue_site=crawler_meteoblue()"
   ]
  },
  {
   "cell_type": "markdown",
   "metadata": {},
   "source": [
    "# Process Meteoblue"
   ]
  },
  {
   "cell_type": "code",
   "execution_count": 5,
   "metadata": {},
   "outputs": [],
   "source": [
    "def pre_process_meteoblue():\n",
    "    import pandas as pd\n",
    "    import numpy as np\n",
    "    import os\n",
    "    files=os.listdir(curr_dir+meteoblue_path)\n",
    "    for file in files:\n",
    "        fle=file\n",
    "    df=pd.read_excel(curr_dir+meteoblue_path+fle)\n",
    "    a=df.iloc[8]\n",
    "    arr=np.array(df.iloc[9:,:])\n",
    "    a=np.array(df.iloc[8,:])\n",
    "\n",
    "    l=[]\n",
    "    l.append(a[0])\n",
    "    for i in a:\n",
    "        if 'timestamp' in i:\n",
    "            continue\n",
    "        else:\n",
    "            l.append(i[9:])\n",
    "    final=pd.DataFrame(arr,columns=l)\n",
    "    required=['timestamp','Wind Speed [10 m]',\n",
    "              'Wind Direction [10 m]',\n",
    "              'Wind Gust','Cloud Cover High [high cld lay]',\n",
    "              'Mean Sea Level Pressure [MSL]']\n",
    "    req=final[required]\n",
    "    \n",
    "    cols=['timestamp',\n",
    "          'Wind Speed  [10 m above gnd]',\n",
    "          'Wind Direction  [10 m above gnd]',\n",
    "          'Wind Gust  [sfc]',\n",
    "          'High Cloud Cover  [high cld lay]',\n",
    "          'Mean Sea Level Pressure  [MSL]']\n",
    "    \n",
    "    req_a=np.array(req)\n",
    "    final_n=pd.DataFrame(req_a,columns=cols)\n",
    "    return final_n#.to_csv('temp_meteoblue.csv',index=False)\n"
   ]
  },
  {
   "cell_type": "code",
   "execution_count": 6,
   "metadata": {},
   "outputs": [],
   "source": [
    "#meteo_data=pre_process_meteoblue()"
   ]
  },
  {
   "cell_type": "markdown",
   "metadata": {},
   "source": [
    "# Crawl IOT Device"
   ]
  },
  {
   "cell_type": "code",
   "execution_count": 7,
   "metadata": {},
   "outputs": [],
   "source": [
    "def crawler_IOT():\n",
    "    chromeOptions=webdriver.ChromeOptions()\n",
    "    \n",
    "    prefs = {\"download.default_directory\" : curr_dir+device_path,\n",
    "            \"directory_upgrade\": True}\n",
    "    \n",
    "    chromeOptions.add_experimental_option(\"prefs\",prefs)\n",
    "    \n",
    "    driver = webdriver.Chrome(executable_path='chromedriver/chromedriver.exe',\n",
    "                              chrome_options=chromeOptions)\n",
    "    \n",
    "    driver.get(\"http://iotbuilder.in/nit-dp/dashboard.php\")\n",
    "    button=driver.find_element_by_class_name(\"col-md-12\")\n",
    "    butt=button.find_element_by_class_name(\"text-center\")\n",
    "    links = driver.find_elements_by_link_text('Save')\n",
    "    for link in links:\n",
    "        link.click()\n",
    "        \n",
    "    while sum([os.path.exists(curr_dir+device_path+f'Device-{e}.xls') for e in range(1,8)])<7:\n",
    "        pass #wait for the devices to complete download\n",
    "        \n",
    "    return driver"
   ]
  },
  {
   "cell_type": "code",
   "execution_count": 8,
   "metadata": {},
   "outputs": [],
   "source": [
    "#iot_site=crawler_IOT()"
   ]
  },
  {
   "cell_type": "code",
   "execution_count": 9,
   "metadata": {},
   "outputs": [],
   "source": [
    "#close drivers\n",
    "#meteo_blue_site.close()\n",
    "#iot_site.close()"
   ]
  },
  {
   "cell_type": "markdown",
   "metadata": {},
   "source": [
    "# Process IOT Device data"
   ]
  },
  {
   "cell_type": "code",
   "execution_count": 10,
   "metadata": {},
   "outputs": [],
   "source": [
    "def preprocess_IOT(meteo_data,date_in):\n",
    "    fldr=device_path.replace(\"\\\\\",\"/\")[1:-1]\n",
    "    files=os.listdir(fldr)\n",
    "    devices_data={}\n",
    "    devices=['Device-1.xls','Device-2.xls','Device-3.xls','Device-4.xls']\n",
    "    for file in devices:\n",
    "        ac=fldr+'/'+file\n",
    "        #print(ac)\n",
    "        df=pd.read_html(ac)\n",
    "        date=[]\n",
    "        df_ac=df[0]\n",
    "        i=0\n",
    "        while i<len(df_ac):\n",
    "            date.append(df_ac.iloc[i]['Date'].split(':')[0])\n",
    "            i+=1\n",
    "        df_ac['Date_req']=date\n",
    "        if 'NA' in date_in:\n",
    "            d_temp=df_ac.iloc[0]['Date_req']\n",
    "            #print(\"A\")\n",
    "        else:\n",
    "            d_temp=date_in\n",
    "            #print(\"B\")\n",
    "        df_temp=df_ac[df_ac['Date_req']==d_temp]\n",
    "        time_stamp=d_temp\n",
    "        reqs=['Temperature','Humidity']\n",
    "        df_t=df_temp[reqs]\n",
    "        means=df_t.mean(axis=0)\n",
    "\n",
    "        number=(file.split('.')[0]).split('-')[1]\n",
    "        devices_data[number]={}\n",
    "        devices_data[number]['Time']=time_stamp\n",
    "        devices_data[number]['Temperature']=means['Temperature']\n",
    "        devices_data[number]['Humidity']=means['Humidity']\n",
    "\n",
    "    data_df=pd.DataFrame(devices_data) \n",
    "    df_f=data_df.transpose()\n",
    "    #print(df_f)\n",
    "    df_f=df_f.reset_index()      \n",
    "    df1=meteo_data#pd.read_csv(\"temp_meteoblue.csv\")        \n",
    "    i=0\n",
    "    date_req=[]\n",
    "    while i<len(df1):\n",
    "        date_req.append(str(df1.iloc[i]['timestamp']).split(':')[0])\n",
    "        i+=1\n",
    "    df1['Time']=date_req\n",
    "    df_com=df1[df1['Time']==d_temp]\n",
    "    result = df_f.merge(df_com, on='Time',how='left')\n",
    "    result=result.drop(['Time'],axis=1)\n",
    "\n",
    "    return result#.to_csv('Final.csv',index=False)"
   ]
  },
  {
   "cell_type": "code",
   "execution_count": 11,
   "metadata": {},
   "outputs": [],
   "source": [
    "#preprocess_IOT(meteo_data,'2020-12-26 11')"
   ]
  },
  {
   "cell_type": "markdown",
   "metadata": {},
   "source": [
    "# Overall Crawler"
   ]
  },
  {
   "cell_type": "code",
   "execution_count": 12,
   "metadata": {},
   "outputs": [],
   "source": [
    "def crawler(date_in=None):\n",
    "    #1.\n",
    "    flush_memo()\n",
    "    \n",
    "    #2.\n",
    "    meteo_site=crawler_meteoblue()\n",
    "    \n",
    "    #3.\n",
    "    iot_dev_site=crawler_IOT()\n",
    "    \n",
    "    #23~\n",
    "    meteo_site.close()\n",
    "    iot_dev_site.close()\n",
    "    \n",
    "    #4.\n",
    "    meteo_data=pre_process_meteoblue()\n",
    "    \n",
    "    #5.\n",
    "    iot_dev_data=preprocess_IOT(meteo_data,date_in)\n",
    "    \n",
    "    #6.\n",
    "    return iot_dev_data"
   ]
  },
  {
   "cell_type": "code",
   "execution_count": 13,
   "metadata": {},
   "outputs": [],
   "source": [
    "#crawler('2020-12-24 11')"
   ]
  },
  {
   "cell_type": "code",
   "execution_count": 14,
   "metadata": {},
   "outputs": [],
   "source": [
    "#NICE"
   ]
  }
 ],
 "metadata": {
  "kernelspec": {
   "display_name": "Python 3",
   "language": "python",
   "name": "python3"
  },
  "language_info": {
   "codemirror_mode": {
    "name": "ipython",
    "version": 3
   },
   "file_extension": ".py",
   "mimetype": "text/x-python",
   "name": "python",
   "nbconvert_exporter": "python",
   "pygments_lexer": "ipython3",
   "version": "3.7.4"
  }
 },
 "nbformat": 4,
 "nbformat_minor": 2
}
