{
 "cells": [
  {
   "cell_type": "code",
   "execution_count": null,
   "metadata": {},
   "outputs": [],
   "source": [
    "### Crawler"
   ]
  },
  {
   "cell_type": "code",
   "execution_count": 2,
   "metadata": {},
   "outputs": [],
   "source": [
    "from selenium import webdriver\n",
    "driver = webdriver.Chrome('chromedriver_linux64/chromedriver')\n",
    "driver.get(\"")\n",
    "button=driver.find_element_by_class_name(\"col-md-12\")\n",
    "butt=button.find_element_by_class_name(\"text-center\")\n",
    "links = driver.find_elements_by_link_text('Save')\n",
    "for link in links:\n",
    "    link.click()\n",
    "    \n",
    "driver.close()"
   ]
  },
  {
   "cell_type": "code",
   "execution_count": null,
   "metadata": {},
   "outputs": [],
   "source": [
    "### Preprocessing"
   ]
  },
  {
   "cell_type": "code",
   "execution_count": 1,
   "metadata": {},
   "outputs": [],
   "source": [
    "import pandas as pd"
   ]
  },
  {
   "cell_type": "code",
   "execution_count": 2,
   "metadata": {},
   "outputs": [],
   "source": [
    "import os"
   ]
  },
  {
   "cell_type": "code",
   "execution_count": 3,
   "metadata": {},
   "outputs": [],
   "source": [
    "fldr='IOT_data'"
   ]
  },
  {
   "cell_type": "code",
   "execution_count": 4,
   "metadata": {},
   "outputs": [],
   "source": [
    "files=os.listdir(fldr)"
   ]
  },
  {
   "cell_type": "code",
   "execution_count": 5,
   "metadata": {},
   "outputs": [
    {
     "name": "stdout",
     "output_type": "stream",
     "text": [
      "IOT_data/Device-1.xls\n",
      "IOT_data/Device-2.xls\n",
      "IOT_data/Device-3.xls\n",
      "IOT_data/Device-4.xls\n"
     ]
    }
   ],
   "source": [
    "fldr='IOT_data'\n",
    "files=os.listdir(fldr)\n",
    "devices_data={}\n",
    "devices=['Device-1.xls','Device-2.xls','Device-3.xls','Device-4.xls']\n",
    "for file in devices:\n",
    "    ac=fldr+'/'+file\n",
    "    print(ac)\n",
    "    df=pd.read_html(ac)\n",
    "    date=[]\n",
    "    df_ac=df[0]\n",
    "    i=0\n",
    "    while i<len(df_ac):\n",
    "        date.append(df_ac.iloc[i]['Date'].split(':')[0])\n",
    "        i+=1\n",
    "    df_ac['Date_req']=date\n",
    "    d_temp=df_ac.iloc[0]['Date_req']\n",
    "    df_temp=df_ac[df_ac['Date_req']==d_temp]\n",
    "    time_stamp=d_temp\n",
    "    reqs=['Temperature','Humidity']\n",
    "    df_t=df_temp[reqs]\n",
    "    means=df_t.mean(axis=0)\n",
    "    \n",
    "    number=(file.split('.')[0]).split('-')[1]\n",
    "    devices_data[number]={}\n",
    "    devices_data[number]['Time']=time_stamp\n",
    "    devices_data[number]['Temperature']=means['Temperature']\n",
    "    devices_data[number]['Humidity']=means['Humidity']\n",
    "\n",
    "data_df=pd.DataFrame(devices_data) \n",
    "df_f=data_df.transpose()\n",
    "df_f=df_f.reset_index()      \n",
    "df1=pd.read_csv(\"temp_meteoblue.csv\")        \n",
    "i=0\n",
    "date_req=[]\n",
    "while i<len(df1):\n",
    "    date_req.append((df1.iloc[i]['timestamp']).split(':')[0])\n",
    "    i+=1\n",
    "df1['Time']=date_req\n",
    "df_com=df1[df1['Time']==d_temp]\n",
    "result = df_f.merge(df_com, on='Time',how='left')\n",
    "result=result.drop(['Time'],axis=1)\n",
    "\n",
    "result.to_csv('Final.csv',index=False)\n"
   ]
  },
  {
   "cell_type": "code",
   "execution_count": 6,
   "metadata": {},
   "outputs": [
    {
     "data": {
      "text/plain": [
       "{'1': {'Time': '2020-12-19 11', 'Temperature': 17.5, 'Humidity': 48.0},\n",
       " '2': {'Time': '2020-12-24 16',\n",
       "  'Temperature': 25.607142857142858,\n",
       "  'Humidity': 40.857142857142854},\n",
       " '3': {'Time': '2020-12-22 08',\n",
       "  'Temperature': 15.5,\n",
       "  'Humidity': 54.30769230769231},\n",
       " '4': {'Time': '2020-12-24 13',\n",
       "  'Temperature': 19.386363636363637,\n",
       "  'Humidity': 37.45454545454545}}"
      ]
     },
     "execution_count": 6,
     "metadata": {},
     "output_type": "execute_result"
    }
   ],
   "source": [
    "devices_data"
   ]
  },
  {
   "cell_type": "code",
   "execution_count": 7,
   "metadata": {},
   "outputs": [],
   "source": [
    "data_df=pd.DataFrame(devices_data)"
   ]
  },
  {
   "cell_type": "code",
   "execution_count": 8,
   "metadata": {},
   "outputs": [
    {
     "data": {
      "text/html": [
       "<div>\n",
       "<style scoped>\n",
       "    .dataframe tbody tr th:only-of-type {\n",
       "        vertical-align: middle;\n",
       "    }\n",
       "\n",
       "    .dataframe tbody tr th {\n",
       "        vertical-align: top;\n",
       "    }\n",
       "\n",
       "    .dataframe thead th {\n",
       "        text-align: right;\n",
       "    }\n",
       "</style>\n",
       "<table border=\"1\" class=\"dataframe\">\n",
       "  <thead>\n",
       "    <tr style=\"text-align: right;\">\n",
       "      <th></th>\n",
       "      <th>1</th>\n",
       "      <th>2</th>\n",
       "      <th>3</th>\n",
       "      <th>4</th>\n",
       "    </tr>\n",
       "  </thead>\n",
       "  <tbody>\n",
       "    <tr>\n",
       "      <th>Humidity</th>\n",
       "      <td>48</td>\n",
       "      <td>40.8571</td>\n",
       "      <td>54.3077</td>\n",
       "      <td>37.4545</td>\n",
       "    </tr>\n",
       "    <tr>\n",
       "      <th>Temperature</th>\n",
       "      <td>17.5</td>\n",
       "      <td>25.6071</td>\n",
       "      <td>15.5</td>\n",
       "      <td>19.3864</td>\n",
       "    </tr>\n",
       "    <tr>\n",
       "      <th>Time</th>\n",
       "      <td>2020-12-19 11</td>\n",
       "      <td>2020-12-24 16</td>\n",
       "      <td>2020-12-22 08</td>\n",
       "      <td>2020-12-24 13</td>\n",
       "    </tr>\n",
       "  </tbody>\n",
       "</table>\n",
       "</div>"
      ],
      "text/plain": [
       "                         1              2              3              4\n",
       "Humidity                48        40.8571        54.3077        37.4545\n",
       "Temperature           17.5        25.6071           15.5        19.3864\n",
       "Time         2020-12-19 11  2020-12-24 16  2020-12-22 08  2020-12-24 13"
      ]
     },
     "execution_count": 8,
     "metadata": {},
     "output_type": "execute_result"
    }
   ],
   "source": [
    "data_df"
   ]
  },
  {
   "cell_type": "code",
   "execution_count": null,
   "metadata": {},
   "outputs": [],
   "source": [
    "## TEMPORARY File management"
   ]
  },
  {
   "cell_type": "code",
   "execution_count": 11,
   "metadata": {},
   "outputs": [
    {
     "name": "stdout",
     "output_type": "stream",
     "text": [
      "IOT_data/Device-1.xls\n",
      "IOT_data/Device-2.xls\n",
      "IOT_data/Device-3.xls\n",
      "IOT_data/Device-4.xls\n"
     ]
    }
   ],
   "source": [
    "devices_data={}\n",
    "devices=['Device-1.xls','Device-2.xls','Device-3.xls','Device-4.xls']\n",
    "for file in devices:\n",
    "    ac=fldr+'/'+file\n",
    "    print(ac)\n",
    "    df=pd.read_html(ac)\n",
    "    date=[]\n",
    "    df_ac=df[0]\n",
    "    i=0\n",
    "    while i<len(df_ac):\n",
    "        date.append(df_ac.iloc[i]['Date'].split(':')[0])\n",
    "        i+=1\n",
    "    df_ac['Date_req']=date\n",
    "    #d_temp=df_ac.iloc[0]['Date_req']\n",
    "    d_temp='2020-12-19 11'\n",
    "    df_temp=df_ac[df_ac['Date_req']==d_temp]\n",
    "    time_stamp=d_temp\n",
    "    reqs=['Temperature','Humidity']\n",
    "    df_t=df_temp[reqs]\n",
    "    means=df_t.mean(axis=0)\n",
    "    \n",
    "    number=(file.split('.')[0]).split('-')[1]\n",
    "    devices_data[number]={}\n",
    "    devices_data[number]['Time']=time_stamp\n",
    "    devices_data[number]['Temperature']=means['Temperature']\n",
    "    devices_data[number]['Humidity']=means['Humidity']\n",
    "    \n",
    "        \n",
    "        \n",
    "        \n",
    "        "
   ]
  },
  {
   "cell_type": "code",
   "execution_count": 12,
   "metadata": {},
   "outputs": [
    {
     "data": {
      "text/plain": [
       "{'1': {'Time': '2020-12-19 11', 'Temperature': 17.5, 'Humidity': 48.0},\n",
       " '2': {'Time': '2020-12-19 11',\n",
       "  'Temperature': 22.2,\n",
       "  'Humidity': 48.013333333333335},\n",
       " '3': {'Time': '2020-12-19 11',\n",
       "  'Temperature': 18.189873417721518,\n",
       "  'Humidity': 41.89873417721519},\n",
       " '4': {'Time': '2020-12-19 11',\n",
       "  'Temperature': 13.435897435897436,\n",
       "  'Humidity': 38.84615384615385}}"
      ]
     },
     "execution_count": 12,
     "metadata": {},
     "output_type": "execute_result"
    }
   ],
   "source": [
    "devices_data"
   ]
  },
  {
   "cell_type": "code",
   "execution_count": 13,
   "metadata": {},
   "outputs": [],
   "source": [
    "data_df=pd.DataFrame(devices_data)"
   ]
  },
  {
   "cell_type": "code",
   "execution_count": 14,
   "metadata": {},
   "outputs": [],
   "source": [
    "df_f=data_df.transpose()"
   ]
  },
  {
   "cell_type": "code",
   "execution_count": 15,
   "metadata": {},
   "outputs": [
    {
     "data": {
      "text/html": [
       "<div>\n",
       "<style scoped>\n",
       "    .dataframe tbody tr th:only-of-type {\n",
       "        vertical-align: middle;\n",
       "    }\n",
       "\n",
       "    .dataframe tbody tr th {\n",
       "        vertical-align: top;\n",
       "    }\n",
       "\n",
       "    .dataframe thead th {\n",
       "        text-align: right;\n",
       "    }\n",
       "</style>\n",
       "<table border=\"1\" class=\"dataframe\">\n",
       "  <thead>\n",
       "    <tr style=\"text-align: right;\">\n",
       "      <th></th>\n",
       "      <th>Humidity</th>\n",
       "      <th>Temperature</th>\n",
       "      <th>Time</th>\n",
       "    </tr>\n",
       "  </thead>\n",
       "  <tbody>\n",
       "    <tr>\n",
       "      <th>1</th>\n",
       "      <td>48</td>\n",
       "      <td>17.5</td>\n",
       "      <td>2020-12-19 11</td>\n",
       "    </tr>\n",
       "    <tr>\n",
       "      <th>2</th>\n",
       "      <td>48.0133</td>\n",
       "      <td>22.2</td>\n",
       "      <td>2020-12-19 11</td>\n",
       "    </tr>\n",
       "    <tr>\n",
       "      <th>3</th>\n",
       "      <td>41.8987</td>\n",
       "      <td>18.1899</td>\n",
       "      <td>2020-12-19 11</td>\n",
       "    </tr>\n",
       "    <tr>\n",
       "      <th>4</th>\n",
       "      <td>38.8462</td>\n",
       "      <td>13.4359</td>\n",
       "      <td>2020-12-19 11</td>\n",
       "    </tr>\n",
       "  </tbody>\n",
       "</table>\n",
       "</div>"
      ],
      "text/plain": [
       "  Humidity Temperature           Time\n",
       "1       48        17.5  2020-12-19 11\n",
       "2  48.0133        22.2  2020-12-19 11\n",
       "3  41.8987     18.1899  2020-12-19 11\n",
       "4  38.8462     13.4359  2020-12-19 11"
      ]
     },
     "execution_count": 15,
     "metadata": {},
     "output_type": "execute_result"
    }
   ],
   "source": [
    "df_f"
   ]
  },
  {
   "cell_type": "code",
   "execution_count": 32,
   "metadata": {},
   "outputs": [],
   "source": [
    "df_f=df_f.reset_index()"
   ]
  },
  {
   "cell_type": "code",
   "execution_count": 23,
   "metadata": {},
   "outputs": [],
   "source": [
    "import pandas as pd"
   ]
  },
  {
   "cell_type": "code",
   "execution_count": 24,
   "metadata": {},
   "outputs": [],
   "source": [
    "df1=pd.read_csv(\"temp_meteoblue.csv\")"
   ]
  },
  {
   "cell_type": "code",
   "execution_count": 25,
   "metadata": {},
   "outputs": [
    {
     "data": {
      "text/html": [
       "<div>\n",
       "<style scoped>\n",
       "    .dataframe tbody tr th:only-of-type {\n",
       "        vertical-align: middle;\n",
       "    }\n",
       "\n",
       "    .dataframe tbody tr th {\n",
       "        vertical-align: top;\n",
       "    }\n",
       "\n",
       "    .dataframe thead th {\n",
       "        text-align: right;\n",
       "    }\n",
       "</style>\n",
       "<table border=\"1\" class=\"dataframe\">\n",
       "  <thead>\n",
       "    <tr style=\"text-align: right;\">\n",
       "      <th></th>\n",
       "      <th>timestamp</th>\n",
       "      <th>Wind Speed  [10 m above gnd]</th>\n",
       "      <th>Wind Direction  [10 m above gnd]</th>\n",
       "      <th>Wind Gust  [sfc]</th>\n",
       "      <th>High Cloud Cover  [high cld lay]</th>\n",
       "      <th>Mean Sea Level Pressure  [MSL]</th>\n",
       "    </tr>\n",
       "  </thead>\n",
       "  <tbody>\n",
       "    <tr>\n",
       "      <th>0</th>\n",
       "      <td>2020-12-17 00:00:00</td>\n",
       "      <td>8.225035</td>\n",
       "      <td>336.80140</td>\n",
       "      <td>18.000000</td>\n",
       "      <td>0</td>\n",
       "      <td>1015.0</td>\n",
       "    </tr>\n",
       "    <tr>\n",
       "      <th>1</th>\n",
       "      <td>2020-12-17 01:00:00</td>\n",
       "      <td>8.217153</td>\n",
       "      <td>331.18920</td>\n",
       "      <td>18.359999</td>\n",
       "      <td>0</td>\n",
       "      <td>1014.9</td>\n",
       "    </tr>\n",
       "    <tr>\n",
       "      <th>2</th>\n",
       "      <td>2020-12-17 02:00:00</td>\n",
       "      <td>8.287822</td>\n",
       "      <td>325.61970</td>\n",
       "      <td>19.800000</td>\n",
       "      <td>0</td>\n",
       "      <td>1014.8</td>\n",
       "    </tr>\n",
       "    <tr>\n",
       "      <th>3</th>\n",
       "      <td>2020-12-17 03:00:00</td>\n",
       "      <td>8.587338</td>\n",
       "      <td>326.97614</td>\n",
       "      <td>21.960000</td>\n",
       "      <td>0</td>\n",
       "      <td>1014.7</td>\n",
       "    </tr>\n",
       "    <tr>\n",
       "      <th>4</th>\n",
       "      <td>2020-12-17 04:00:00</td>\n",
       "      <td>8.587338</td>\n",
       "      <td>326.97614</td>\n",
       "      <td>23.400000</td>\n",
       "      <td>0</td>\n",
       "      <td>1015.1</td>\n",
       "    </tr>\n",
       "  </tbody>\n",
       "</table>\n",
       "</div>"
      ],
      "text/plain": [
       "             timestamp  Wind Speed  [10 m above gnd]  \\\n",
       "0  2020-12-17 00:00:00                      8.225035   \n",
       "1  2020-12-17 01:00:00                      8.217153   \n",
       "2  2020-12-17 02:00:00                      8.287822   \n",
       "3  2020-12-17 03:00:00                      8.587338   \n",
       "4  2020-12-17 04:00:00                      8.587338   \n",
       "\n",
       "   Wind Direction  [10 m above gnd]  Wind Gust  [sfc]  \\\n",
       "0                         336.80140         18.000000   \n",
       "1                         331.18920         18.359999   \n",
       "2                         325.61970         19.800000   \n",
       "3                         326.97614         21.960000   \n",
       "4                         326.97614         23.400000   \n",
       "\n",
       "   High Cloud Cover  [high cld lay]  Mean Sea Level Pressure  [MSL]  \n",
       "0                                 0                          1015.0  \n",
       "1                                 0                          1014.9  \n",
       "2                                 0                          1014.8  \n",
       "3                                 0                          1014.7  \n",
       "4                                 0                          1015.1  "
      ]
     },
     "execution_count": 25,
     "metadata": {},
     "output_type": "execute_result"
    }
   ],
   "source": [
    "df1.head()"
   ]
  },
  {
   "cell_type": "code",
   "execution_count": 26,
   "metadata": {},
   "outputs": [],
   "source": [
    "i=0\n",
    "date_req=[]\n",
    "while i<len(df1):\n",
    "    date_req.append((df1.iloc[i]['timestamp']).split(':')[0])\n",
    "    i+=1\n",
    "df1['Time']=date_req"
   ]
  },
  {
   "cell_type": "code",
   "execution_count": 27,
   "metadata": {},
   "outputs": [],
   "source": [
    "df_com=df1[df1['Time']==d_temp]"
   ]
  },
  {
   "cell_type": "code",
   "execution_count": 28,
   "metadata": {},
   "outputs": [
    {
     "data": {
      "text/html": [
       "<div>\n",
       "<style scoped>\n",
       "    .dataframe tbody tr th:only-of-type {\n",
       "        vertical-align: middle;\n",
       "    }\n",
       "\n",
       "    .dataframe tbody tr th {\n",
       "        vertical-align: top;\n",
       "    }\n",
       "\n",
       "    .dataframe thead th {\n",
       "        text-align: right;\n",
       "    }\n",
       "</style>\n",
       "<table border=\"1\" class=\"dataframe\">\n",
       "  <thead>\n",
       "    <tr style=\"text-align: right;\">\n",
       "      <th></th>\n",
       "      <th>timestamp</th>\n",
       "      <th>Wind Speed  [10 m above gnd]</th>\n",
       "      <th>Wind Direction  [10 m above gnd]</th>\n",
       "      <th>Wind Gust  [sfc]</th>\n",
       "      <th>High Cloud Cover  [high cld lay]</th>\n",
       "      <th>Mean Sea Level Pressure  [MSL]</th>\n",
       "      <th>Time</th>\n",
       "    </tr>\n",
       "  </thead>\n",
       "  <tbody>\n",
       "    <tr>\n",
       "      <th>59</th>\n",
       "      <td>2020-12-19 11:00:00</td>\n",
       "      <td>12.413476</td>\n",
       "      <td>343.1416</td>\n",
       "      <td>15.84</td>\n",
       "      <td>0</td>\n",
       "      <td>1018.2</td>\n",
       "      <td>2020-12-19 11</td>\n",
       "    </tr>\n",
       "  </tbody>\n",
       "</table>\n",
       "</div>"
      ],
      "text/plain": [
       "              timestamp  Wind Speed  [10 m above gnd]  \\\n",
       "59  2020-12-19 11:00:00                     12.413476   \n",
       "\n",
       "    Wind Direction  [10 m above gnd]  Wind Gust  [sfc]  \\\n",
       "59                          343.1416             15.84   \n",
       "\n",
       "    High Cloud Cover  [high cld lay]  Mean Sea Level Pressure  [MSL]  \\\n",
       "59                                 0                          1018.2   \n",
       "\n",
       "             Time  \n",
       "59  2020-12-19 11  "
      ]
     },
     "execution_count": 28,
     "metadata": {},
     "output_type": "execute_result"
    }
   ],
   "source": [
    "df_com"
   ]
  },
  {
   "cell_type": "code",
   "execution_count": 35,
   "metadata": {},
   "outputs": [],
   "source": [
    "result = df_f.merge(df_com, on='Time',how='left')"
   ]
  },
  {
   "cell_type": "code",
   "execution_count": 36,
   "metadata": {},
   "outputs": [
    {
     "data": {
      "text/html": [
       "<div>\n",
       "<style scoped>\n",
       "    .dataframe tbody tr th:only-of-type {\n",
       "        vertical-align: middle;\n",
       "    }\n",
       "\n",
       "    .dataframe tbody tr th {\n",
       "        vertical-align: top;\n",
       "    }\n",
       "\n",
       "    .dataframe thead th {\n",
       "        text-align: right;\n",
       "    }\n",
       "</style>\n",
       "<table border=\"1\" class=\"dataframe\">\n",
       "  <thead>\n",
       "    <tr style=\"text-align: right;\">\n",
       "      <th></th>\n",
       "      <th>index</th>\n",
       "      <th>Humidity</th>\n",
       "      <th>Temperature</th>\n",
       "      <th>Time</th>\n",
       "      <th>timestamp</th>\n",
       "      <th>Wind Speed  [10 m above gnd]</th>\n",
       "      <th>Wind Direction  [10 m above gnd]</th>\n",
       "      <th>Wind Gust  [sfc]</th>\n",
       "      <th>High Cloud Cover  [high cld lay]</th>\n",
       "      <th>Mean Sea Level Pressure  [MSL]</th>\n",
       "    </tr>\n",
       "  </thead>\n",
       "  <tbody>\n",
       "    <tr>\n",
       "      <th>0</th>\n",
       "      <td>1</td>\n",
       "      <td>48</td>\n",
       "      <td>17.5</td>\n",
       "      <td>2020-12-19 11</td>\n",
       "      <td>2020-12-19 11:00:00</td>\n",
       "      <td>12.413476</td>\n",
       "      <td>343.1416</td>\n",
       "      <td>15.84</td>\n",
       "      <td>0</td>\n",
       "      <td>1018.2</td>\n",
       "    </tr>\n",
       "    <tr>\n",
       "      <th>1</th>\n",
       "      <td>2</td>\n",
       "      <td>48.0133</td>\n",
       "      <td>22.2</td>\n",
       "      <td>2020-12-19 11</td>\n",
       "      <td>2020-12-19 11:00:00</td>\n",
       "      <td>12.413476</td>\n",
       "      <td>343.1416</td>\n",
       "      <td>15.84</td>\n",
       "      <td>0</td>\n",
       "      <td>1018.2</td>\n",
       "    </tr>\n",
       "    <tr>\n",
       "      <th>2</th>\n",
       "      <td>3</td>\n",
       "      <td>41.8987</td>\n",
       "      <td>18.1899</td>\n",
       "      <td>2020-12-19 11</td>\n",
       "      <td>2020-12-19 11:00:00</td>\n",
       "      <td>12.413476</td>\n",
       "      <td>343.1416</td>\n",
       "      <td>15.84</td>\n",
       "      <td>0</td>\n",
       "      <td>1018.2</td>\n",
       "    </tr>\n",
       "    <tr>\n",
       "      <th>3</th>\n",
       "      <td>4</td>\n",
       "      <td>38.8462</td>\n",
       "      <td>13.4359</td>\n",
       "      <td>2020-12-19 11</td>\n",
       "      <td>2020-12-19 11:00:00</td>\n",
       "      <td>12.413476</td>\n",
       "      <td>343.1416</td>\n",
       "      <td>15.84</td>\n",
       "      <td>0</td>\n",
       "      <td>1018.2</td>\n",
       "    </tr>\n",
       "  </tbody>\n",
       "</table>\n",
       "</div>"
      ],
      "text/plain": [
       "  index Humidity Temperature           Time            timestamp  \\\n",
       "0     1       48        17.5  2020-12-19 11  2020-12-19 11:00:00   \n",
       "1     2  48.0133        22.2  2020-12-19 11  2020-12-19 11:00:00   \n",
       "2     3  41.8987     18.1899  2020-12-19 11  2020-12-19 11:00:00   \n",
       "3     4  38.8462     13.4359  2020-12-19 11  2020-12-19 11:00:00   \n",
       "\n",
       "   Wind Speed  [10 m above gnd]  Wind Direction  [10 m above gnd]  \\\n",
       "0                     12.413476                          343.1416   \n",
       "1                     12.413476                          343.1416   \n",
       "2                     12.413476                          343.1416   \n",
       "3                     12.413476                          343.1416   \n",
       "\n",
       "   Wind Gust  [sfc]  High Cloud Cover  [high cld lay]  \\\n",
       "0             15.84                                 0   \n",
       "1             15.84                                 0   \n",
       "2             15.84                                 0   \n",
       "3             15.84                                 0   \n",
       "\n",
       "   Mean Sea Level Pressure  [MSL]  \n",
       "0                          1018.2  \n",
       "1                          1018.2  \n",
       "2                          1018.2  \n",
       "3                          1018.2  "
      ]
     },
     "execution_count": 36,
     "metadata": {},
     "output_type": "execute_result"
    }
   ],
   "source": [
    "result"
   ]
  },
  {
   "cell_type": "code",
   "execution_count": 37,
   "metadata": {},
   "outputs": [],
   "source": [
    "result=result.drop(['Time'],axis=1)"
   ]
  },
  {
   "cell_type": "code",
   "execution_count": 38,
   "metadata": {},
   "outputs": [
    {
     "data": {
      "text/html": [
       "<div>\n",
       "<style scoped>\n",
       "    .dataframe tbody tr th:only-of-type {\n",
       "        vertical-align: middle;\n",
       "    }\n",
       "\n",
       "    .dataframe tbody tr th {\n",
       "        vertical-align: top;\n",
       "    }\n",
       "\n",
       "    .dataframe thead th {\n",
       "        text-align: right;\n",
       "    }\n",
       "</style>\n",
       "<table border=\"1\" class=\"dataframe\">\n",
       "  <thead>\n",
       "    <tr style=\"text-align: right;\">\n",
       "      <th></th>\n",
       "      <th>index</th>\n",
       "      <th>Humidity</th>\n",
       "      <th>Temperature</th>\n",
       "      <th>timestamp</th>\n",
       "      <th>Wind Speed  [10 m above gnd]</th>\n",
       "      <th>Wind Direction  [10 m above gnd]</th>\n",
       "      <th>Wind Gust  [sfc]</th>\n",
       "      <th>High Cloud Cover  [high cld lay]</th>\n",
       "      <th>Mean Sea Level Pressure  [MSL]</th>\n",
       "    </tr>\n",
       "  </thead>\n",
       "  <tbody>\n",
       "    <tr>\n",
       "      <th>0</th>\n",
       "      <td>1</td>\n",
       "      <td>48</td>\n",
       "      <td>17.5</td>\n",
       "      <td>2020-12-19 11:00:00</td>\n",
       "      <td>12.413476</td>\n",
       "      <td>343.1416</td>\n",
       "      <td>15.84</td>\n",
       "      <td>0</td>\n",
       "      <td>1018.2</td>\n",
       "    </tr>\n",
       "    <tr>\n",
       "      <th>1</th>\n",
       "      <td>2</td>\n",
       "      <td>48.0133</td>\n",
       "      <td>22.2</td>\n",
       "      <td>2020-12-19 11:00:00</td>\n",
       "      <td>12.413476</td>\n",
       "      <td>343.1416</td>\n",
       "      <td>15.84</td>\n",
       "      <td>0</td>\n",
       "      <td>1018.2</td>\n",
       "    </tr>\n",
       "    <tr>\n",
       "      <th>2</th>\n",
       "      <td>3</td>\n",
       "      <td>41.8987</td>\n",
       "      <td>18.1899</td>\n",
       "      <td>2020-12-19 11:00:00</td>\n",
       "      <td>12.413476</td>\n",
       "      <td>343.1416</td>\n",
       "      <td>15.84</td>\n",
       "      <td>0</td>\n",
       "      <td>1018.2</td>\n",
       "    </tr>\n",
       "    <tr>\n",
       "      <th>3</th>\n",
       "      <td>4</td>\n",
       "      <td>38.8462</td>\n",
       "      <td>13.4359</td>\n",
       "      <td>2020-12-19 11:00:00</td>\n",
       "      <td>12.413476</td>\n",
       "      <td>343.1416</td>\n",
       "      <td>15.84</td>\n",
       "      <td>0</td>\n",
       "      <td>1018.2</td>\n",
       "    </tr>\n",
       "  </tbody>\n",
       "</table>\n",
       "</div>"
      ],
      "text/plain": [
       "  index Humidity Temperature            timestamp  \\\n",
       "0     1       48        17.5  2020-12-19 11:00:00   \n",
       "1     2  48.0133        22.2  2020-12-19 11:00:00   \n",
       "2     3  41.8987     18.1899  2020-12-19 11:00:00   \n",
       "3     4  38.8462     13.4359  2020-12-19 11:00:00   \n",
       "\n",
       "   Wind Speed  [10 m above gnd]  Wind Direction  [10 m above gnd]  \\\n",
       "0                     12.413476                          343.1416   \n",
       "1                     12.413476                          343.1416   \n",
       "2                     12.413476                          343.1416   \n",
       "3                     12.413476                          343.1416   \n",
       "\n",
       "   Wind Gust  [sfc]  High Cloud Cover  [high cld lay]  \\\n",
       "0             15.84                                 0   \n",
       "1             15.84                                 0   \n",
       "2             15.84                                 0   \n",
       "3             15.84                                 0   \n",
       "\n",
       "   Mean Sea Level Pressure  [MSL]  \n",
       "0                          1018.2  \n",
       "1                          1018.2  \n",
       "2                          1018.2  \n",
       "3                          1018.2  "
      ]
     },
     "execution_count": 38,
     "metadata": {},
     "output_type": "execute_result"
    }
   ],
   "source": [
    "result"
   ]
  },
  {
   "cell_type": "code",
   "execution_count": 39,
   "metadata": {},
   "outputs": [],
   "source": [
    "result.to_csv('Final.csv',index=False)"
   ]
  },
  {
   "cell_type": "code",
   "execution_count": null,
   "metadata": {},
   "outputs": [],
   "source": []
  }
 ],
 "metadata": {
  "kernelspec": {
   "display_name": "Python 3",
   "language": "python",
   "name": "python3"
  },
  "language_info": {
   "codemirror_mode": {
    "name": "ipython",
    "version": 3
   },
   "file_extension": ".py",
   "mimetype": "text/x-python",
   "name": "python",
   "nbconvert_exporter": "python",
   "pygments_lexer": "ipython3",
   "version": "3.6.9"
  }
 },
 "nbformat": 4,
 "nbformat_minor": 2
}
