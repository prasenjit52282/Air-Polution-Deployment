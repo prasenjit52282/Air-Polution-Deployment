{
 "cells": [
  {
   "cell_type": "code",
   "execution_count": 1,
   "metadata": {
    "scrolled": true
   },
   "outputs": [],
   "source": [
    "import pickle\n",
    "import numpy as np\n",
    "import pandas as pd\n",
    "from libraries.Crawler import crawler\n",
    "\n",
    "\n",
    "with open(\"./logs/model.pickle\",\"rb\") as f:\n",
    "    model=pickle.load(f)\n",
    "    \n",
    "    \n",
    "feat_cols=[\n",
    "        'Temperature',\n",
    "        'Humidity',\n",
    "        'Mean Sea Level Pressure  [MSL]',\n",
    "        'Wind Speed  [10 m above gnd]',\n",
    "        'High Cloud Cover  [high cld lay]',\n",
    "        'Wind Direction  [10 m above gnd]',\n",
    "        'Wind Gust  [sfc]'\n",
    "]\n",
    "\n",
    "grid_dev=[(1,3),(0,0),(3,2),(2,1)]\n",
    "eucledine=lambda a,b,c,d:round(((a-c)**2+(b-d)**2)**0.5,2)\n",
    "\n",
    "def get_contribution_vec(x,y):\n",
    "    try:\n",
    "        device=grid_dev.index((x,y))\n",
    "        #print('It is a device')\n",
    "        vec=[0,0,0,0]\n",
    "        vec[device]=1\n",
    "    except ValueError:\n",
    "        #print('Not a device')\n",
    "        vec=[0,0,0,0]\n",
    "        for i,(a,b) in enumerate(grid_dev):\n",
    "            vec[i]=eucledine(a,b,x,y)\n",
    "    return vec\n",
    "\n",
    "\n",
    "grid=[]\n",
    "for i in range(4):\n",
    "    for j in range(4):\n",
    "        grid.append(get_contribution_vec(i,j))\n",
    "\n",
    "\n",
    "\n",
    "def Interpolate(dev,rc):\n",
    "\n",
    "    #interpolating w.r.to distance vec for each point.\n",
    "\n",
    "    interpol=[]\n",
    "    for g in grid:\n",
    "        x=1/np.array(g).reshape(-1,1)\n",
    "        x[x == np.inf] = 0\n",
    "\n",
    "        interpol.append((x*dev).sum(axis=0)/np.sum(x))\n",
    "\n",
    "    #Interpolated features\n",
    "\n",
    "    grid_feat=pd.DataFrame(interpol)[feat_cols]\n",
    "\n",
    "    #RandomForest Predictions\n",
    "\n",
    "    grid_wise_pred=rc.predict(grid_feat)\n",
    "    \n",
    "    return np.array(grid_wise_pred,dtype=\"int\").reshape(4,4).tolist()\n"
   ]
  },
  {
   "cell_type": "code",
   "execution_count": 2,
   "metadata": {},
   "outputs": [],
   "source": [
    "from flask import Flask,jsonify\n",
    "from flask_cors import cross_origin\n",
    "app = Flask(__name__)\n",
    "\n",
    "@cross_origin\n",
    "@app.route('/<date>/<hour>')\n",
    "def fun(date='2020-12-19',hour='11'):\n",
    "    df=crawler(date+' '+hour)[feat_cols]\n",
    "    pred=Interpolate(df,model)\n",
    "    \n",
    "    data=\\\n",
    "        [\n",
    "          {\n",
    "            \"z\": pred,\n",
    "            \"type\": 'heatmap'\n",
    "          }\n",
    "        ]\n",
    "    return jsonify(data)"
   ]
  },
  {
   "cell_type": "code",
   "execution_count": 3,
   "metadata": {
    "scrolled": true
   },
   "outputs": [
    {
     "name": "stdout",
     "output_type": "stream",
     "text": [
      " * Serving Flask app \"__main__\" (lazy loading)\n",
      " * Environment: production\n",
      "   WARNING: This is a development server. Do not use it in a production deployment.\n",
      "   Use a production WSGI server instead.\n",
      " * Debug mode: off\n"
     ]
    },
    {
     "name": "stderr",
     "output_type": "stream",
     "text": [
      " * Running on http://127.0.0.1:5000/ (Press CTRL+C to quit)\n",
      "127.0.0.1 - - [30/Dec/2020 04:42:34] \"\u001b[33mGET / HTTP/1.1\u001b[0m\" 404 -\n",
      "127.0.0.1 - - [30/Dec/2020 04:42:34] \"\u001b[33mGET /favicon.ico HTTP/1.1\u001b[0m\" 404 -\n",
      "C:\\Users\\ME\\Anaconda3\\lib\\site-packages\\ipykernel_launcher.py:51: RuntimeWarning: divide by zero encountered in true_divide\n",
      "127.0.0.1 - - [30/Dec/2020 04:44:53] \"\u001b[37mGET /2020-12-25/11 HTTP/1.1\u001b[0m\" 200 -\n"
     ]
    }
   ],
   "source": [
    "app.run()"
   ]
  },
  {
   "cell_type": "code",
   "execution_count": null,
   "metadata": {},
   "outputs": [],
   "source": [
    "#APP Done"
   ]
  }
 ],
 "metadata": {
  "kernelspec": {
   "display_name": "Python 3",
   "language": "python",
   "name": "python3"
  },
  "language_info": {
   "codemirror_mode": {
    "name": "ipython",
    "version": 3
   },
   "file_extension": ".py",
   "mimetype": "text/x-python",
   "name": "python",
   "nbconvert_exporter": "python",
   "pygments_lexer": "ipython3",
   "version": "3.7.4"
  }
 },
 "nbformat": 4,
 "nbformat_minor": 2
}
