{
 "cells": [
  {
   "cell_type": "code",
   "execution_count": null,
   "metadata": {},
   "outputs": [],
   "source": [
    "### Crawler"
   ]
  },
  {
   "cell_type": "code",
   "execution_count": 4,
   "metadata": {
    "scrolled": false
   },
   "outputs": [
    {
     "name": "stdout",
     "output_type": "stream",
     "text": [
      "B\n",
      "C\n",
      "C\n",
      "C\n",
      "C\n",
      "C\n",
      "C\n",
      "C\n",
      "A\n"
     ]
    }
   ],
   "source": [
    "from selenium import webdriver\n",
    "driver = webdriver.Chrome('chromedriver_linux64/chromedriver')\n",
    "driver.get(\"\")\n",
    "\n",
    "driver.find_element_by_xpath(\"/html/body/div[2]/div/form/div/input\").click() #accept and continue\n",
    "\n",
    "button=driver.find_element_by_class_name(\"bloo\")\n",
    "\n",
    "######Click on checkbox#########\n",
    "\n",
    "print(\"B\")\n",
    "\n",
    "l=['//*[@id=\"params\"]/optgroup[2]/option[3]',\n",
    "   '//*[@id=\"params\"]/optgroup[6]/option[1]',\n",
    "   '//*[@id=\"params\"]/optgroup[4]/option[1]',\n",
    "   '//*[@id=\"params\"]/optgroup[4]/option[2]',\n",
    "   '//*[@id=\"params\"]/optgroup[3]/option[2]',\n",
    "   '//*[@id=\"params\"]/optgroup[3]/option[4]',\n",
    "   '//*[@id=\"params\"]/optgroup[3]/option[3]']\n",
    "\n",
    "for e in l:\n",
    "    driver.find_element_by_xpath(e).click()\n",
    "    print(\"C\")\n",
    "print(\"A\")\n",
    "driver.find_element_by_xpath('//*[@id=\"wrapper-main\"]/div/main/div/div[2]/form/div[4]/div[3]/div/input').click()\n",
    "\n",
    "#driver.close()"
   ]
  },
  {
   "cell_type": "code",
   "execution_count": null,
   "metadata": {},
   "outputs": [],
   "source": [
    "#Getting data"
   ]
  },
  {
   "cell_type": "code",
   "execution_count": 8,
   "metadata": {},
   "outputs": [],
   "source": [
    "import os\n",
    "import shutil\n",
    "fldr1='/home/abhijit/Downloads/'\n",
    "files=os.listdir(fldr1)\n",
    "to_reach='Meteoblue_data/'\n",
    "file_name='env_vars'\n",
    "for file in files:\n",
    "    #print(file)\n",
    "    if 'dataexport' in file:\n",
    "        print(file)\n",
    "        fle=file\n",
    "state=\"mv \"+fldr1+fle+\" \"+to_reach+file_name\n",
    "#print(state)\n",
    "shutil.move(fldr1+fle,to_reach)"
   ]
  },
  {
   "cell_type": "code",
   "execution_count": null,
   "metadata": {},
   "outputs": [],
   "source": [
    "#### Processing"
   ]
  },
  {
   "cell_type": "code",
   "execution_count": 26,
   "metadata": {},
   "outputs": [],
   "source": [
    "\n",
    "import pandas as pd\n",
    "import numpy as np\n",
    "df=pd.read_excel(\"test.xlsx\")\n",
    "a=df.iloc[8]\n",
    "arr=np.array(df.iloc[9:,:])\n",
    "a=np.array(df.iloc[8,:])\n",
    "\n",
    "l=[]\n",
    "l.append(a[0])\n",
    "for i in a:\n",
    "    if 'timestamp' in i:\n",
    "        continue\n",
    "    else:\n",
    "        l.append(i[9:])\n",
    "final=pd.DataFrame(arr,columns=l)\n",
    "required=['timestamp','Wind Speed [10 m]','Wind Direction [10 m]','Wind Gust','Cloud Cover High [high cld lay]','Mean Sea Level Pressure [MSL]']\n",
    "req=final[required]\n",
    "cols=['timestamp','Wind Speed  [10 m above gnd]','Wind Direction  [10 m above gnd]','Wind Gust  [sfc]','High Cloud Cover  [high cld lay]','Mean Sea Level Pressure  [MSL]']\n",
    "req_a=np.array(req)\n",
    "final_n=pd.DataFrame(req_a,columns=cols)\n",
    "final_n.to_csv('temp_meteoblue.csv',index=False)\n"
   ]
  }
 ],
 "metadata": {
  "kernelspec": {
   "display_name": "Python 3",
   "language": "python",
   "name": "python3"
  },
  "language_info": {
   "codemirror_mode": {
    "name": "ipython",
    "version": 3
   },
   "file_extension": ".py",
   "mimetype": "text/x-python",
   "name": "python",
   "nbconvert_exporter": "python",
   "pygments_lexer": "ipython3",
   "version": "3.6.9"
  }
 },
 "nbformat": 4,
 "nbformat_minor": 2
}
