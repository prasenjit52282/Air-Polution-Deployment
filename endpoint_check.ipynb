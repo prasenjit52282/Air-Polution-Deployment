{
 "cells": [
  {
   "cell_type": "code",
   "execution_count": 1,
   "metadata": {},
   "outputs": [],
   "source": [
    "import json\n",
    "import requests\n",
    "import matplotlib.pyplot as plt\n",
    "import seaborn as sns\n",
    "import numpy as np"
   ]
  },
  {
   "cell_type": "code",
   "execution_count": 2,
   "metadata": {},
   "outputs": [
    {
     "name": "stdout",
     "output_type": "stream",
     "text": [
      "Enter Date: 2020-12-19 09\n"
     ]
    },
    {
     "data": {
      "image/png": "[encoded data removed]",
      "text/plain": [
       "<Figure size 432x288 with 2 Axes>"
      ]
     },
     "metadata": {
      "needs_background": "light"
     },
     "output_type": "display_data"
    }
   ],
   "source": [
    "res=requests.get('http://localhost:5000/'+input(\"Enter Date: \"))\n",
    "\n",
    "dic=json.loads(res.content)\n",
    "\n",
    "grid_wise_pred=np.array(list(dict(sorted(list(dic.items()),key=lambda e:int(e[0]))).values()))\n",
    "\n",
    "fig=plt.figure()\n",
    "ax=fig.add_subplot(111)\n",
    "sns.heatmap(grid_wise_pred.reshape(4,4),vmin=1,vmax=3,cmap=['green','orange','brown'],annot=True,\n",
    "            linewidths=1,linecolor='grey',ax=ax)\n",
    "bottom,top=ax.get_ylim()\n",
    "ax.set_ylim(bottom+0.5,top-0.5)\n",
    "#plt.tight_layout()\n",
    "ax.set_xticks([])\n",
    "ax.set_yticks([])\n",
    "\n",
    "cbar=ax.collections[0].colorbar\n",
    "cbar.ax.tick_params(labelsize=15,axis='both',which='both',length=0)\n",
    "cbar.set_ticks([1,2,3])\n",
    "cbar.set_ticklabels(['AQI_c1','AQI_c2','AQI_c3'])\n",
    "\n",
    "#fig.savefig('./logs/Interplolate/day_{}_hour_{}.png'.format(day,hour))"
   ]
  },
  {
   "cell_type": "code",
   "execution_count": null,
   "metadata": {},
   "outputs": [],
   "source": []
  }
 ],
 "metadata": {
  "kernelspec": {
   "display_name": "Python 3",
   "language": "python",
   "name": "python3"
  },
  "language_info": {
   "codemirror_mode": {
    "name": "ipython",
    "version": 3
   },
   "file_extension": ".py",
   "mimetype": "text/x-python",
   "name": "python",
   "nbconvert_exporter": "python",
   "pygments_lexer": "ipython3",
   "version": "3.6.9"
  }
 },
 "nbformat": 4,
 "nbformat_minor": 2
}
